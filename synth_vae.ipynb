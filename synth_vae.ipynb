{
 "cells": [
  {
   "cell_type": "code",
   "execution_count": null,
   "metadata": {},
   "outputs": [],
   "source": [
    "import argparse\n",
    "\n",
    "import matplotlib.pyplot as plt\n",
    "import torch\n",
    "\n",
    "from synth_vae import main\n",
    "\n",
    "%matplotlib inline\n",
    "\n",
    "torch.manual_seed(0)"
   ]
  },
  {
   "cell_type": "code",
   "execution_count": null,
   "metadata": {},
   "outputs": [],
   "source": [
    "args = argparse.Namespace(\n",
    "    latent_dim=2, hidden_dim=256, batch_size=128, epochs=100, lr=3e-4, beta=1.0\n",
    ")\n",
    "\n",
    "model = main(args)\n",
    "model = model.to(\"cpu\")"
   ]
  },
  {
   "cell_type": "code",
   "execution_count": null,
   "metadata": {},
   "outputs": [],
   "source": [
    "n = 100\n",
    "\n",
    "class_0 = torch.cat([model.sample(0) for i in range(n)], axis=0)\n",
    "class_1 = torch.cat([model.sample(1) for i in range(n)], axis=0)\n",
    "\n",
    "plt.scatter(class_0[:, 0].numpy(), class_0[:, 1].numpy(), alpha=0.1, label=\"class0\")\n",
    "plt.scatter(class_1[:, 0].numpy(), class_1[:, 1].numpy(), alpha=0.1, label=\"class1\")\n",
    "plt.show()"
   ]
  }
 ],
 "metadata": {
  "kernelspec": {
   "display_name": "PDL_HW3",
   "language": "python",
   "name": "python3"
  },
  "language_info": {
   "codemirror_mode": {
    "name": "ipython",
    "version": 3
   },
   "file_extension": ".py",
   "mimetype": "text/x-python",
   "name": "python",
   "nbconvert_exporter": "python",
   "pygments_lexer": "ipython3",
   "version": "3.13.2"
  }
 },
 "nbformat": 4,
 "nbformat_minor": 2
}
